{
 "cells": [
  {
   "cell_type": "markdown",
   "metadata": {},
   "source": [
    "### 4.6.1 Tublas e dicionário\n",
    "## tuplas"
   ]
  },
  {
   "cell_type": "code",
   "execution_count": 4,
   "metadata": {},
   "outputs": [
    {
     "name": "stdout",
     "output_type": "stream",
     "text": [
      "() (1, 2) (1, 2)\n",
      "(1,)\n"
     ]
    }
   ],
   "source": [
    "#definindo uma tupla vazia\n",
    "tupla = ()\n",
    "# definindo uma tupla com 2 elementos\n",
    "tupla_v1 = (1,2)\n",
    "tupla_v2 = 1,2\n",
    "print(tupla, tupla_v1, tupla_v2)\n",
    "# Definindo uma Tupla co  1 elemento\n",
    "tupla_v3 = 1,\n",
    "print(tupla_v3)"
   ]
  },
  {
   "cell_type": "code",
   "execution_count": 7,
   "metadata": {},
   "outputs": [
    {
     "name": "stdout",
     "output_type": "stream",
     "text": [
      "(1, 2, 3, 4, 5, 6, 7, 8)\n",
      "(2, 3, 4, 5, 6, 7)\n",
      "True\n",
      "False\n"
     ]
    }
   ],
   "source": [
    "# operações com Tuplas\n",
    "tupla = (1,2,3,4,5)\n",
    "#tupla.append(5) # isso não pode\n",
    "#tupla.insert(1,6)# isso não pode tambem\n",
    "#del tupla[2]# isso não pode tambem\n",
    "#tupla[4] = 10 # isso não pode tambem\n",
    "tupla = tupla + (6,7,8) # isso é possivel\n",
    "print(tupla)\n",
    "print(tupla[1:-1]) # fatiamento é possivel tambem \n",
    "print(6 in tupla) #in pode \n",
    "print(5 not in tupla)# not in pode "
   ]
  },
  {
   "cell_type": "markdown",
   "metadata": {},
   "source": [
    "### Dicionários"
   ]
  },
  {
   "cell_type": "code",
   "execution_count": null,
   "metadata": {},
   "outputs": [
    {
     "name": "stdout",
     "output_type": "stream",
     "text": [
      "izabela Lima\n",
      "{'Nome': 'izabela Lima', 'Endereço': 'Rua valdir Campos, 481', 'telefone': '14-981779945'}\n",
      "3\n",
      "True\n",
      "False\n",
      "dict_keys(['Nome', 'Endereço', 'telefone'])\n",
      "dict_values(['izabela Lima', 'Rua valdir Campos, 481', '14-981779945'])\n",
      "dict_items([('Nome', 'izabela Lima'), ('Endereço', 'Rua valdir Campos, 481'), ('telefone', '14-981779945')])\n",
      "\n",
      "Nome /Endereço /telefone /\n",
      "izabela Lima  Rua valdir Campos, 481  14-981779945  \n",
      "Nome = izabela Lima,Endereço = Rua valdir Campos, 481,telefone = 14-981779945,\n",
      "{'Nome': 'izabela Lima', 'Endereço': 'Rua valdir Campos, 481'}\n"
     ]
    }
   ],
   "source": [
    "dic = {\"Nome\": \"izabela Lima\", \"Endereço\": \"Rua valdir Campos, 481\" } \n",
    "print(dic[\"Nome\"])\n",
    "dic[\"telefone\"] = \"14-981779945\"\n",
    "print(dic)\n",
    "print(len(dic))\n",
    "print(\"Nome\" in dic)\n",
    "print(\"celular\" in dic)\n",
    "print(dic.keys())# so as chaves\n",
    "print(dic.values()) # só os valores\n",
    "print(dic.items())# aqui tenho chave e valor\n",
    "print()\n",
    "for el in dic.keys(): print(el,end=\" /\")\n",
    "print()\n",
    "for el in dic.values(): print(el,end=\"  \")\n",
    "print()\n",
    "for ch, vl in dic.items(): print(ch,\"=\",vl,end=\",\")\n",
    "print()\n",
    "del dic[\"telefone\"]# aqui estou deletando o telefone\n",
    "print(dic)"
   ]
  }
 ],
 "metadata": {
  "kernelspec": {
   "display_name": ".venv",
   "language": "python",
   "name": "python3"
  },
  "language_info": {
   "codemirror_mode": {
    "name": "ipython",
    "version": 3
   },
   "file_extension": ".py",
   "mimetype": "text/x-python",
   "name": "python",
   "nbconvert_exporter": "python",
   "pygments_lexer": "ipython3",
   "version": "3.13.2"
  }
 },
 "nbformat": 4,
 "nbformat_minor": 2
}
