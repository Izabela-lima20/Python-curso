{
 "cells": [
  {
   "cell_type": "markdown",
   "metadata": {},
   "source": [
    "### 4.7.1 -Exceções\n",
    "## tratamento de erros no Python"
   ]
  },
  {
   "cell_type": "code",
   "execution_count": 23,
   "metadata": {},
   "outputs": [
    {
     "name": "stdout",
     "output_type": "stream",
     "text": [
      "o valor resultante será: 0.2\n",
      "outro erro ocorreu! list index out of range\n",
      "Fim do programa!\n"
     ]
    }
   ],
   "source": [
    "# exemplo de erro de execução de código\n",
    "\n",
    "try:\n",
    "   valor = int(input(\"Digite valor: \"))\n",
    "   print(\"o valor resultante será:\", 1/valor)\n",
    "   lista = [1,2,3]\n",
    "   print(lista[5])\n",
    "except ValueError:\n",
    "    print(\"Ocorreu um erro de conversão! Somente numeros!\")\n",
    "except ZeroDivisionError:\n",
    "    print(\"Ocorreu um erro de divisão por zero!\")\n",
    "except Exception as e: #todo tipos de erros e baseado nesse, ele não pode ser o primeiro, sempre do especifico para o generico, se por ele no começo vai dar erro nos outro \n",
    "    print(\"outro erro ocorreu!\", e)\n",
    "    print(\"Fim do programa!\")\n"
   ]
  }
 ],
 "metadata": {
  "kernelspec": {
   "display_name": ".venv",
   "language": "python",
   "name": "python3"
  },
  "language_info": {
   "codemirror_mode": {
    "name": "ipython",
    "version": 3
   },
   "file_extension": ".py",
   "mimetype": "text/x-python",
   "name": "python",
   "nbconvert_exporter": "python",
   "pygments_lexer": "ipython3",
   "version": "3.13.2"
  }
 },
 "nbformat": 4,
 "nbformat_minor": 2
}
