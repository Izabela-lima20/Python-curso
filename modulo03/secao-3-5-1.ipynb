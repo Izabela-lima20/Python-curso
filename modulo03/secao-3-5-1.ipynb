{
 "cells": [
  {
   "cell_type": "markdown",
   "metadata": {},
   "source": [
    "### 3.5.1 - Ordenando lista"
   ]
  },
  {
   "cell_type": "code",
   "execution_count": 4,
   "metadata": {},
   "outputs": [
    {
     "name": "stdout",
     "output_type": "stream",
     "text": [
      "troca 3\n",
      "troca 3\n",
      "troca 2\n",
      "troca 0\n",
      "[2, 4, 6, 8, 10]\n"
     ]
    }
   ],
   "source": [
    "# Ordenação bubblesort - A ordenção em bolhas\n",
    "lista = [8,10,6,2,4]\n",
    "troca = True\n",
    "while troca:\n",
    "    qtde = 0\n",
    "    troca = False\n",
    "    for i in range(len(lista)-1):\n",
    "        if lista[i]>lista[i+1]: # o penutimo compara com o ultimo\n",
    "            lista[i],lista[i+1]= lista[i+1], lista[i]# permuta\n",
    "            troca = True\n",
    "            qtde +=1\n",
    "    print(\"troca\", qtde)\n",
    "print(lista)            "
   ]
  },
  {
   "cell_type": "code",
   "execution_count": 10,
   "metadata": {},
   "outputs": [
    {
     "name": "stdout",
     "output_type": "stream",
     "text": [
      "troca 2\n",
      "troca 0\n",
      "[10, 8, 6, 4, 2]\n"
     ]
    }
   ],
   "source": [
    "# Ordenação bubblesort - A ordenção em bolhas\n",
    "lista = [8,10,6,2,4]\n",
    "troca = True\n",
    "while troca:\n",
    "    qtde = 0\n",
    "    troca = False\n",
    "    for i in range(len(lista)-1):\n",
    "        if lista[i]<=lista[i+1]: # o penutimo compara com o ultimo\n",
    "            lista[i],lista[i+1]= lista[i+1], lista[i]# permuta\n",
    "            troca = True\n",
    "            qtde +=1\n",
    "    print(\"troca\", qtde)\n",
    "print(lista) "
   ]
  },
  {
   "cell_type": "code",
   "execution_count": 15,
   "metadata": {},
   "outputs": [
    {
     "name": "stdout",
     "output_type": "stream",
     "text": [
      "[2, 4, 6, 8, 10]\n",
      "[10, 8, 6, 4, 2]\n"
     ]
    }
   ],
   "source": [
    "# memas linha de codigo e mais eficiente do que o de cima\n",
    "lista = [8,10,6,2,4]\n",
    "lista.sort()\n",
    "print(lista) \n",
    "lista.reverse()# vai inverter o conteudo das linhas\n",
    "print(lista)"
   ]
  }
 ],
 "metadata": {
  "kernelspec": {
   "display_name": ".venv",
   "language": "python",
   "name": "python3"
  },
  "language_info": {
   "codemirror_mode": {
    "name": "ipython",
    "version": 3
   },
   "file_extension": ".py",
   "mimetype": "text/x-python",
   "name": "python",
   "nbconvert_exporter": "python",
   "pygments_lexer": "ipython3",
   "version": "3.13.2"
  }
 },
 "nbformat": 4,
 "nbformat_minor": 2
}
