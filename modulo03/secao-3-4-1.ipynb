{
 "cells": [
  {
   "cell_type": "markdown",
   "metadata": {},
   "source": [
    "### 3.4 Listas\n"
   ]
  },
  {
   "cell_type": "code",
   "execution_count": 6,
   "metadata": {},
   "outputs": [
    {
     "name": "stdout",
     "output_type": "stream",
     "text": [
      "3\n",
      "[1, 2, 9, 4, 5, 6]\n",
      "6\n"
     ]
    }
   ],
   "source": [
    "# Representando uma lista\n",
    "# pode ser qualquer coisa não só numero \n",
    "list = [1,2,3,4,5,6]\n",
    "print(list[2]) # aqui estou imprimindo apenas uma posiçao da lista\n",
    "list[2] = 9 # aqui estou alterando o item da posição 2 para 9 \n",
    "print(list)# aqui estou imprimindo a lista inteira\n",
    "print(len(list)) # retorna o tamanho da lista \n"
   ]
  }
 ],
 "metadata": {
  "kernelspec": {
   "display_name": ".venv",
   "language": "python",
   "name": "python3"
  },
  "language_info": {
   "codemirror_mode": {
    "name": "ipython",
    "version": 3
   },
   "file_extension": ".py",
   "mimetype": "text/x-python",
   "name": "python",
   "nbconvert_exporter": "python",
   "pygments_lexer": "ipython3",
   "version": "3.13.2"
  }
 },
 "nbformat": 4,
 "nbformat_minor": 2
}
