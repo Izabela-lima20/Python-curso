{
 "cells": [
  {
   "cell_type": "markdown",
   "metadata": {},
   "source": [
    "### 3.4 Listas\n"
   ]
  },
  {
   "cell_type": "code",
   "execution_count": null,
   "metadata": {},
   "outputs": [
    {
     "name": "stdout",
     "output_type": "stream",
     "text": [
      "3\n",
      "[1, 2, 9, 4, 5, 6]\n",
      "6\n",
      "[1, 2, 9, 4, 6]\n"
     ]
    }
   ],
   "source": [
    "# Representando uma lista\n",
    "#indice 0,1,2,3,4,5, \n",
    "# pode ser qualquer coisa não só numero \n",
    "list = [1,2,3,4,5,6]\n",
    "print(list[2]) # aqui estou imprimindo apenas uma posiçao da lista\n",
    "list[2] = 9 # aqui estou alterando o item da posição 2 para 9 \n",
    "print(list)# aqui estou imprimindo a lista inteira\n",
    "print(len(list)) # retorna o tamanho da lista \n",
    "del list[4] #removendo o idice 4 da lista\n",
    "print(list)"
   ]
  },
  {
   "cell_type": "code",
   "execution_count": 4,
   "metadata": {},
   "outputs": [
    {
     "name": "stdout",
     "output_type": "stream",
     "text": [
      "5\n",
      "4\n",
      "1\n",
      "5\n"
     ]
    }
   ],
   "source": [
    "# acessando elementos com o índice negativo\n",
    "lista = [1,2,3,4,5]\n",
    "print(lista[-1])\n",
    "print(lista[-2])\n",
    "print(lista[~(len(lista)-1)])\n",
    "print(lista[(len(lista)-1)])"
   ]
  },
  {
   "cell_type": "markdown",
   "metadata": {},
   "source": [
    "### Função x métodos\n",
    "- exemplo de função: len(), min(), max(), print()\n",
    "Métodos e um pouco diferente....\n",
    "objeto.método()\n",
    "\n",
    "### EXEMPLOS DE MÉTODOS\n",
    "lista = [1,2,3,4,5]\n",
    "lista.append(6) <- isso adiciona o numero 6 para a lista no final"
   ]
  },
  {
   "cell_type": "code",
   "execution_count": null,
   "metadata": {},
   "outputs": [
    {
     "name": "stdout",
     "output_type": "stream",
     "text": [
      "[1, 2, 3, 4, 5, 6]\n",
      "['__add__', '__class__', '__class_getitem__', '__contains__', '__delattr__', '__delitem__', '__dir__', '__doc__', '__eq__', '__format__', '__ge__', '__getattribute__', '__getitem__', '__getstate__', '__gt__', '__hash__', '__iadd__', '__imul__', '__init__', '__init_subclass__', '__iter__', '__le__', '__len__', '__lt__', '__mul__', '__ne__', '__new__', '__reduce__', '__reduce_ex__', '__repr__', '__reversed__', '__rmul__', '__setattr__', '__setitem__', '__sizeof__', '__str__', '__subclasshook__', 'append', 'clear', 'copy', 'count', 'extend', 'index', 'insert', 'pop', 'remove', 'reverse', 'sort']\n",
      "[1, 2, 3, 9, 4, 5, 6]\n"
     ]
    }
   ],
   "source": [
    "lista = [1,2,3,4,5]\n",
    "lista.append(6) #isso adiciona o numero 6 para a lista no final\n",
    "print(lista)\n",
    "print(dir(lista)) # mostra todas as propriedades das lista\n",
    "lista.count(9)#é usada em programação para contar o número de elementos, linhas ou registros em uma tabela, coluna ou conjunto de resultados. \n",
    "lista.insert(3,9)# aqui estou colocando o valor 9 no índice 3\n",
    "print(lista)"
   ]
  },
  {
   "cell_type": "code",
   "execution_count": 17,
   "metadata": {},
   "outputs": [
    {
     "name": "stdout",
     "output_type": "stream",
     "text": [
      "indice: 0 valor: 1\n",
      "indice: 1 valor: 2\n",
      "indice: 2 valor: 3\n",
      "indice: 3 valor: 4\n",
      "indice: 4 valor: 5\n",
      "Fim do programa\n"
     ]
    }
   ],
   "source": [
    "# Usando for em listas\n",
    "# consigo acessar o valor e ver o índece\n",
    "lista = [1,2,3,4,5]\n",
    "for i in range(len(lista)):\n",
    "    print(\"indice:\" ,i, \"valor:\",lista[i])\n",
    "print(\"Fim do programa\")\n"
   ]
  },
  {
   "cell_type": "code",
   "execution_count": null,
   "metadata": {},
   "outputs": [
    {
     "name": "stdout",
     "output_type": "stream",
     "text": [
      "Valor 1\n",
      "Valor 2\n",
      "Valor 3\n",
      "Valor 4\n",
      "Valor 5\n",
      "Fim do programa\n"
     ]
    }
   ],
   "source": [
    "#Usando o for em pelo valor\n",
    "lista = [1,2,3,4,5]\n",
    "for el in lista:\n",
    "    print(\"Valor\", el)\n",
    "print(\"Fim do programa\")"
   ]
  },
  {
   "cell_type": "code",
   "execution_count": 24,
   "metadata": {},
   "outputs": [
    {
     "name": "stdout",
     "output_type": "stream",
     "text": [
      "[7, 6, 5, 4, 3, 2, 1]\n"
     ]
    }
   ],
   "source": [
    "# permuta de elementos\n",
    "lista = [1,2,3,4,5,6,7]\n",
    "lista[0], lista[-1] = lista[-1], lista[0]\n",
    "lista[1], lista[-2] = lista[-2], lista[1]\n",
    "lista[2], lista[-3] = lista[-3], lista[2]\n",
    "print(lista)\n"
   ]
  },
  {
   "cell_type": "code",
   "execution_count": 28,
   "metadata": {},
   "outputs": [
    {
     "name": "stdout",
     "output_type": "stream",
     "text": [
      "[21, 20, 19, 18, 17, 16, 15, 14, 13, 12, 11, 10, 9, 8, 7, 6, 5, 4, 3, 2, 1]\n"
     ]
    }
   ],
   "source": [
    "# 7 // 2 = 3\n",
    "# aqui é outra forma de fazer, uma forma mais facil pois no eemplo so tem 7 intes mais se tiver 100 demoraria muito fazer um por um \n",
    "lista = [1,2,3,4,5,6,7,8,9,10,11,12,13,14,15,16,17,18,19,20,21]\n",
    "for i in range(len(lista)//2): # reverse da lista\n",
    "    lista[i],lista[~i] = lista[~i], lista[i]\n",
    "print(lista)"
   ]
  },
  {
   "cell_type": "code",
   "execution_count": null,
   "metadata": {},
   "outputs": [
    {
     "name": "stdout",
     "output_type": "stream",
     "text": [
      "[1, 2, 3]\n",
      "2.5\n",
      "olá\n",
      "[1, [2, 3]]\n",
      "True\n",
      "\n",
      "\n",
      "3\n",
      "3\n"
     ]
    }
   ],
   "source": [
    "# aqui coloquei varios item na lista (o INDICE 3 DA LISTA É [1,2,3]) o INDICE 1 É (2.5)\n",
    "# uma lista dentro de outra lista dentro de um elemento\n",
    "lista = [1,2.5, \"olá\", [1,2,3,], [1,[2,3]], True]\n",
    "print(lista[3])\n",
    "print(lista[1])\n",
    "print(lista[2])\n",
    "print(lista[4])\n",
    "print(lista[5])\n",
    "\n",
    "print()\n",
    "print()\n",
    "\n",
    "# ou \n",
    "lista = [1,2.5, \"olá\", [1,2,3,], [1,[2,3]], True]\n",
    "print(lista[3][2])\n",
    "print(lista[4][1][1])"
   ]
  }
 ],
 "metadata": {
  "kernelspec": {
   "display_name": ".venv",
   "language": "python",
   "name": "python3"
  },
  "language_info": {
   "codemirror_mode": {
    "name": "ipython",
    "version": 3
   },
   "file_extension": ".py",
   "mimetype": "text/x-python",
   "name": "python",
   "nbconvert_exporter": "python",
   "pygments_lexer": "ipython3",
   "version": "3.13.2"
  }
 },
 "nbformat": 4,
 "nbformat_minor": 2
}
