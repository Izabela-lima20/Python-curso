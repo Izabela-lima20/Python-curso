{
 "cells": [
  {
   "cell_type": "markdown",
   "metadata": {},
   "source": [
    "### 3.7 Seção 7 - Listas em aplicativos avançados\n",
    "### list comrehension\n",
    "- sobre matrizes, listas aninhadas (matrizes) e compreensões da lista."
   ]
  },
  {
   "cell_type": "code",
   "execution_count": 2,
   "metadata": {},
   "outputs": [
    {
     "name": "stdout",
     "output_type": "stream",
     "text": [
      "[0, 1, 2, 3, 4, 5, 6, 7, 8, 9]\n"
     ]
    }
   ],
   "source": [
    "# montando uma lista simples\n",
    "lista = []\n",
    "for i in range(10):\n",
    "    lista.append(i)\n",
    "print(lista)\n"
   ]
  },
  {
   "cell_type": "code",
   "execution_count": null,
   "metadata": {},
   "outputs": [
    {
     "name": "stdout",
     "output_type": "stream",
     "text": [
      "[0, 1, 2, 3, 4, 5, 6, 7, 8, 9]\n"
     ]
    }
   ],
   "source": [
    "# a mesma coisa da outra / vou criar um conjunto e esse conjunto vai ter como base 10 elementos \n",
    "lista = [i for i in range(10)]\n",
    "print(lista)\n",
    "\n",
    "#range(10): Isso cria uma sequência de números de 0 até 9. O range(10) gera os números 0, 1, 2, 3, 4, 5, 6, 7, 8, 9.\n",
    "\n",
    "#for i in range(10): Esse é um laço de repetição que vai passar por cada número da sequência gerada pelo range(10). Ou seja, ele vai fazer algo para cada número de 0 a 9.\n",
    "\n",
    "#[i for i in range(10)]: Essa é a list comprehension. Ela cria uma lista e coloca dentro dela os valores de i em cada repetição do laço. Portanto, no final, a lista terá todos os números de 0 a 9."
   ]
  },
  {
   "cell_type": "code",
   "execution_count": 13,
   "metadata": {},
   "outputs": [
    {
     "name": "stdout",
     "output_type": "stream",
     "text": [
      "[[1, 2, 3], [1, 2, 3], [1, 2, 3]]\n"
     ]
    }
   ],
   "source": [
    "# matriz 3X3\n",
    "linha = []\n",
    "for i in range(3):\n",
    "    coluna=[]\n",
    "    for l in range(3):\n",
    "        coluna.append(l+1)\n",
    "    linha.append(coluna)\n",
    "print(linha)    "
   ]
  },
  {
   "cell_type": "code",
   "execution_count": 14,
   "metadata": {},
   "outputs": [
    {
     "name": "stdout",
     "output_type": "stream",
     "text": [
      "[[1, 2, 3], [1, 2, 3], [1, 2, 3]]\n"
     ]
    }
   ],
   "source": [
    "# Usando list conprehension\n",
    "linha= [[l+1 for l in range(3)] for i in range(3)]\n",
    "print(linha)\n"
   ]
  },
  {
   "cell_type": "code",
   "execution_count": null,
   "metadata": {},
   "outputs": [
    {
     "name": "stdout",
     "output_type": "stream",
     "text": [
      "[[1, 2, 3], [4, 5, 6], [7, 8, 9]]\n"
     ]
    }
   ],
   "source": [
    "linha= [[(i * 3) + l+1 for l in range(3)] for i in range(3)]\n",
    "print(linha)\n",
    "# usei a mutiplicação para fazer ser 1,2,3,4,5,6,7,8,9"
   ]
  }
 ],
 "metadata": {
  "kernelspec": {
   "display_name": ".venv",
   "language": "python",
   "name": "python3"
  },
  "language_info": {
   "codemirror_mode": {
    "name": "ipython",
    "version": 3
   },
   "file_extension": ".py",
   "mimetype": "text/x-python",
   "name": "python",
   "nbconvert_exporter": "python",
   "pygments_lexer": "ipython3",
   "version": "3.13.2"
  }
 },
 "nbformat": 4,
 "nbformat_minor": 2
}
