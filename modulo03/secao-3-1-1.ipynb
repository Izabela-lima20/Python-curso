{
 "cells": [
  {
   "cell_type": "markdown",
   "metadata": {},
   "source": [
    "### Tomada de decisão\n",
    "### operação relacionadas\n",
    "### operação de igualdade ( == ) ou verdadeiro ou falso (False / True)\n",
    "### atribuição (=) \n",
    "\n"
   ]
  },
  {
   "cell_type": "markdown",
   "metadata": {},
   "source": [
    "### o operador de igualdade (==)"
   ]
  },
  {
   "cell_type": "code",
   "execution_count": 25,
   "metadata": {},
   "outputs": [
    {
     "name": "stdout",
     "output_type": "stream",
     "text": [
      "False\n",
      "True\n",
      "True\n",
      "True\n"
     ]
    }
   ],
   "source": [
    "print(1 == 2)\n",
    "print(1 == 1)\n",
    "print(1 == 1.0)\n",
    "print(2 == 0b10) # banary 2\n"
   ]
  },
  {
   "cell_type": "markdown",
   "metadata": {},
   "source": [
    "### o operador de desigualdade (!=)"
   ]
  },
  {
   "cell_type": "code",
   "execution_count": 26,
   "metadata": {},
   "outputs": [
    {
     "name": "stdout",
     "output_type": "stream",
     "text": [
      "True\n",
      "False\n",
      "False\n"
     ]
    }
   ],
   "source": [
    "print(1 != 2)\n",
    "print(1 != 1)\n",
    "print(1 != 1.0)"
   ]
  },
  {
   "cell_type": "markdown",
   "metadata": {},
   "source": [
    "### Operadores de comparação: maior que (>)\n",
    "### Operadores de comparação: maior ou igual a ( >= )"
   ]
  },
  {
   "cell_type": "code",
   "execution_count": 27,
   "metadata": {},
   "outputs": [
    {
     "name": "stdout",
     "output_type": "stream",
     "text": [
      "False\n",
      "True\n",
      "True\n",
      "True\n"
     ]
    }
   ],
   "source": [
    "print( 1 > 2)\n",
    "print(2 > 1)\n",
    "print(2 >= 1)\n",
    "print(2 >= 0b10)"
   ]
  },
  {
   "cell_type": "markdown",
   "metadata": {},
   "source": [
    "### Comparação de operadores: menor que é menor ou igual que"
   ]
  },
  {
   "cell_type": "code",
   "execution_count": 28,
   "metadata": {},
   "outputs": [
    {
     "name": "stdout",
     "output_type": "stream",
     "text": [
      "True\n",
      "False\n",
      "False\n",
      "True\n"
     ]
    }
   ],
   "source": [
    "print( 1 < 2)\n",
    "print(2 < 1)\n",
    "print(2 <= 1)\n",
    "print(2 <= 0b10)"
   ]
  },
  {
   "cell_type": "markdown",
   "metadata": {},
   "source": [
    "### Atualizando a lista de prioridade de operadores \n",
    "| seq | operador | descição| \n",
    "| - | - | :-: | \n",
    "| 1 | ** | Exponenciação| \n",
    "| 2 | +,- | Unario sinal| \n",
    "| 3 | *,/,//,%| Multiplicação, divisaõ e resto| \n",
    "| 4 |  +,- | Soma e subtração| \n",
    "| 5 | >, >=, <,<=| Maior, maior igual, menor, menor igual| \n",
    "| 6 | ==, !| igualdade , diferença| "
   ]
  },
  {
   "cell_type": "markdown",
   "metadata": {},
   "source": [
    "### Condições e execução condicional\n",
    "### operador if (se)\n",
    "-sintaxe:\n",
    "if condição_verdade:\n",
    "   comando_a_ser_executado1()\n",
    "   comando_a_ser_executado2()"
   ]
  },
  {
   "cell_type": "code",
   "execution_count": 29,
   "metadata": {},
   "outputs": [
    {
     "ename": "KeyboardInterrupt",
     "evalue": "Interrupted by user",
     "output_type": "error",
     "traceback": [
      "\u001b[31m---------------------------------------------------------------------------\u001b[39m",
      "\u001b[31mKeyboardInterrupt\u001b[39m                         Traceback (most recent call last)",
      "\u001b[36mCell\u001b[39m\u001b[36m \u001b[39m\u001b[32mIn[29]\u001b[39m\u001b[32m, line 1\u001b[39m\n\u001b[32m----> \u001b[39m\u001b[32m1\u001b[39m idade = \u001b[38;5;28mint\u001b[39m(\u001b[38;5;28;43minput\u001b[39;49m\u001b[43m(\u001b[49m\u001b[33;43m\"\u001b[39;49m\u001b[33;43mDigite sua idade:\u001b[39;49m\u001b[33;43m\"\u001b[39;49m\u001b[43m)\u001b[49m)\n\u001b[32m      2\u001b[39m \u001b[38;5;28;01mif\u001b[39;00m idade >= \u001b[32m18\u001b[39m:\n\u001b[32m      3\u001b[39m     \u001b[38;5;28mprint\u001b[39m(\u001b[33m\"\u001b[39m\u001b[33mVoce é maior de idade\u001b[39m\u001b[33m\"\u001b[39m)\n",
      "\u001b[36mFile \u001b[39m\u001b[32mc:\\PYTHON\\Izabela lima\\Python-curso\\.venv\\Lib\\site-packages\\ipykernel\\kernelbase.py:1282\u001b[39m, in \u001b[36mKernel.raw_input\u001b[39m\u001b[34m(self, prompt)\u001b[39m\n\u001b[32m   1280\u001b[39m     msg = \u001b[33m\"\u001b[39m\u001b[33mraw_input was called, but this frontend does not support input requests.\u001b[39m\u001b[33m\"\u001b[39m\n\u001b[32m   1281\u001b[39m     \u001b[38;5;28;01mraise\u001b[39;00m StdinNotImplementedError(msg)\n\u001b[32m-> \u001b[39m\u001b[32m1282\u001b[39m \u001b[38;5;28;01mreturn\u001b[39;00m \u001b[38;5;28;43mself\u001b[39;49m\u001b[43m.\u001b[49m\u001b[43m_input_request\u001b[49m\u001b[43m(\u001b[49m\n\u001b[32m   1283\u001b[39m \u001b[43m    \u001b[49m\u001b[38;5;28;43mstr\u001b[39;49m\u001b[43m(\u001b[49m\u001b[43mprompt\u001b[49m\u001b[43m)\u001b[49m\u001b[43m,\u001b[49m\n\u001b[32m   1284\u001b[39m \u001b[43m    \u001b[49m\u001b[38;5;28;43mself\u001b[39;49m\u001b[43m.\u001b[49m\u001b[43m_parent_ident\u001b[49m\u001b[43m[\u001b[49m\u001b[33;43m\"\u001b[39;49m\u001b[33;43mshell\u001b[39;49m\u001b[33;43m\"\u001b[39;49m\u001b[43m]\u001b[49m\u001b[43m,\u001b[49m\n\u001b[32m   1285\u001b[39m \u001b[43m    \u001b[49m\u001b[38;5;28;43mself\u001b[39;49m\u001b[43m.\u001b[49m\u001b[43mget_parent\u001b[49m\u001b[43m(\u001b[49m\u001b[33;43m\"\u001b[39;49m\u001b[33;43mshell\u001b[39;49m\u001b[33;43m\"\u001b[39;49m\u001b[43m)\u001b[49m\u001b[43m,\u001b[49m\n\u001b[32m   1286\u001b[39m \u001b[43m    \u001b[49m\u001b[43mpassword\u001b[49m\u001b[43m=\u001b[49m\u001b[38;5;28;43;01mFalse\u001b[39;49;00m\u001b[43m,\u001b[49m\n\u001b[32m   1287\u001b[39m \u001b[43m\u001b[49m\u001b[43m)\u001b[49m\n",
      "\u001b[36mFile \u001b[39m\u001b[32mc:\\PYTHON\\Izabela lima\\Python-curso\\.venv\\Lib\\site-packages\\ipykernel\\kernelbase.py:1325\u001b[39m, in \u001b[36mKernel._input_request\u001b[39m\u001b[34m(self, prompt, ident, parent, password)\u001b[39m\n\u001b[32m   1322\u001b[39m \u001b[38;5;28;01mexcept\u001b[39;00m \u001b[38;5;167;01mKeyboardInterrupt\u001b[39;00m:\n\u001b[32m   1323\u001b[39m     \u001b[38;5;66;03m# re-raise KeyboardInterrupt, to truncate traceback\u001b[39;00m\n\u001b[32m   1324\u001b[39m     msg = \u001b[33m\"\u001b[39m\u001b[33mInterrupted by user\u001b[39m\u001b[33m\"\u001b[39m\n\u001b[32m-> \u001b[39m\u001b[32m1325\u001b[39m     \u001b[38;5;28;01mraise\u001b[39;00m \u001b[38;5;167;01mKeyboardInterrupt\u001b[39;00m(msg) \u001b[38;5;28;01mfrom\u001b[39;00m\u001b[38;5;250m \u001b[39m\u001b[38;5;28;01mNone\u001b[39;00m\n\u001b[32m   1326\u001b[39m \u001b[38;5;28;01mexcept\u001b[39;00m \u001b[38;5;167;01mException\u001b[39;00m:\n\u001b[32m   1327\u001b[39m     \u001b[38;5;28mself\u001b[39m.log.warning(\u001b[33m\"\u001b[39m\u001b[33mInvalid Message:\u001b[39m\u001b[33m\"\u001b[39m, exc_info=\u001b[38;5;28;01mTrue\u001b[39;00m)\n",
      "\u001b[31mKeyboardInterrupt\u001b[39m: Interrupted by user"
     ]
    }
   ],
   "source": [
    "idade = int(input(\"Digite sua idade:\"))\n",
    "if idade >= 18:\n",
    "    print(\"Voce é maior de idade\")\n",
    "    print(\"voce pode dirigir, se habilitado!\")\n",
    "print(\"fim do programa\")   "
   ]
  },
  {
   "cell_type": "markdown",
   "metadata": {},
   "source": [
    "### Execução condicional: o comando if-else"
   ]
  },
  {
   "cell_type": "code",
   "execution_count": null,
   "metadata": {},
   "outputs": [
    {
     "name": "stdout",
     "output_type": "stream",
     "text": [
      "Voce é maior de idade\n",
      "voce pode dirigir, se habilitado!\n"
     ]
    }
   ],
   "source": [
    "idade = int(input(\"Digite sua idade\"))\n",
    "if idade >=18:\n",
    "      print(\"Voce é maior de idade\")\n",
    "      print(\"voce pode dirigir, se habilitado!\")\n",
    "else: \n",
    "       print(\"Voce é menor de idade\")\n",
    "       print(\"voce não pode dirigir!\")\n",
    "       print(\"fim do programa\")  \n",
    "\n"
   ]
  },
  {
   "cell_type": "markdown",
   "metadata": {},
   "source": [
    "### if encadeado"
   ]
  },
  {
   "cell_type": "code",
   "execution_count": null,
   "metadata": {},
   "outputs": [
    {
     "name": "stdout",
     "output_type": "stream",
     "text": [
      "Voce é maior de idade\n",
      "voce pode dirigir, se habilitado!\n",
      "deve fazer exames a cada dois anos\n"
     ]
    }
   ],
   "source": [
    "idade = int(input(\"Digite sua idade\"))\n",
    "if idade >=18:\n",
    "      print(\"Voce é maior de idade\")\n",
    "      print(\"voce pode dirigir, se habilitado!\")\n",
    "      if idade >=70:\n",
    "             print(\"voce deve fazer exame medicos anuais\")\n",
    "      else:\n",
    "             if idade >=60:\n",
    "              print(\"deve fazer exames a cada dois anos\")   \n",
    "else: \n",
    "       print(\"Voce é menor de idade\")\n",
    "       print(\"voce não pode dirigir!\")\n",
    "       print(\"fim do programa\")  "
   ]
  },
  {
   "cell_type": "markdown",
   "metadata": {},
   "source": [
    "### O comando elif e um complemeto do if\n",
    " "
   ]
  },
  {
   "cell_type": "code",
   "execution_count": 35,
   "metadata": {},
   "outputs": [
    {
     "name": "stdout",
     "output_type": "stream",
     "text": [
      "Voce é menor de idade\n",
      "voce não pode dirigir!\n",
      "fim do programa\n"
     ]
    }
   ],
   "source": [
    "idade = int(input(\"Digite sua idade\"))\n",
    "if idade >=70:\n",
    "        print(\"Voce é maior de idade\")\n",
    "        print(\"voce pode dirigir, se habilitado!\")\n",
    "        print(\"voce deve fazer exame medicos anuais\")\n",
    "\n",
    "elif idade >= 65:\n",
    "       print(\"Voce é maior de idade\")\n",
    "       print(\"voce pode dirigir, se habilitado!\")\n",
    "       print(\"deve fazer exames a cada dois anos\") \n",
    "\n",
    "elif idade >=18:\n",
    "      print(\"Voce é maior de idade\")\n",
    "      print(\"voce pode dirigir, se habilitado!\")\n",
    "\n",
    "else: \n",
    "       print(\"Voce é menor de idade\")\n",
    "       print(\"voce não pode dirigir!\")\n",
    "       print(\"fim do programa\")  \n"
   ]
  },
  {
   "cell_type": "code",
   "execution_count": 40,
   "metadata": {},
   "outputs": [
    {
     "name": "stdout",
     "output_type": "stream",
     "text": [
      "O maior numero é: 2\n"
     ]
    }
   ],
   "source": [
    "# obtendo do maior numero entre dois numeros \n",
    "num1 = int(input(\"Digite o primeiro numero:\"))\n",
    "num2 = int(input(\"Digite o segundo numero:\"))\n",
    "maior = num1\n",
    "if num2 > maior:\n",
    "    maior = num2\n",
    "    print(\"O maior numero é:\", maior)\n",
    "\n"
   ]
  },
  {
   "cell_type": "code",
   "execution_count": null,
   "metadata": {},
   "outputs": [
    {
     "name": "stdout",
     "output_type": "stream",
     "text": [
      "O maior numero é: 9\n"
     ]
    }
   ],
   "source": [
    "# obtendo do maior numero entre tres numeros \n",
    "num1 = int(input(\"Digite o primeiro numero:\"))\n",
    "num2 = int(input(\"Digite o segundo numero:\"))\n",
    "num3 = int(input(\"Digite o terceiro numero:\"))\n",
    "\n",
    "maior = num1\n",
    "if num2 > maior:\n",
    "    maior = num2\n",
    "\n",
    "if num3 > maior:\n",
    "    maior = num3    \n",
    "\n",
    "    print(\"O maior numero é:\", maior)"
   ]
  }
 ],
 "metadata": {
  "kernelspec": {
   "display_name": ".venv",
   "language": "python",
   "name": "python3"
  },
  "language_info": {
   "codemirror_mode": {
    "name": "ipython",
    "version": 3
   },
   "file_extension": ".py",
   "mimetype": "text/x-python",
   "name": "python",
   "nbconvert_exporter": "python",
   "pygments_lexer": "ipython3",
   "version": "3.13.2"
  }
 },
 "nbformat": 4,
 "nbformat_minor": 2
}
