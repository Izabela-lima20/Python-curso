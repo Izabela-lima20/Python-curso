{
 "cells": [
  {
   "cell_type": "markdown",
   "metadata": {},
   "source": [
    "## Variáveis "
   ]
  },
  {
   "cell_type": "code",
   "execution_count": 29,
   "metadata": {},
   "outputs": [
    {
     "name": "stdout",
     "output_type": "stream",
     "text": [
      "21\n",
      "22\n"
     ]
    }
   ],
   "source": [
    "idade = 21\n",
    "print(idade)\n",
    "idade = idade + 1\n",
    "print(idade)\n"
   ]
  },
  {
   "cell_type": "markdown",
   "metadata": {},
   "source": [
    "### Regras para o no,e de uma variável\n",
    "- deve se iniciar com letra ou _ \n",
    "- Não pode conter caracter especial\n",
    "- Pode usar letras numeros ou _\n",
    "- O python faz diverença entre maiúscula e minúsculas \n",
    "- Não pode ser uma palavra reservada do python"
   ]
  },
  {
   "cell_type": "markdown",
   "metadata": {},
   "source": [
    "### 2.4.7   LAB   Variáveis\n"
   ]
  },
  {
   "cell_type": "code",
   "execution_count": 30,
   "metadata": {},
   "outputs": [
    {
     "name": "stdout",
     "output_type": "stream",
     "text": [
      "10,6,9\n",
      "\n",
      "total de maçãs: 25\n"
     ]
    }
   ],
   "source": [
    "john = 10\n",
    "mary = 6\n",
    "adam = 9\n",
    "print(john, mary, adam, sep=',') #criei as variaveis e pedi para imprimir separando por virgula\n",
    "\n",
    "print()\n",
    "\n",
    "total_apples = john + mary + adam\n",
    "print(\"total de maçãs:\" ,total_apples)\n"
   ]
  },
  {
   "cell_type": "markdown",
   "metadata": {},
   "source": [
    "### Operadores atalhos\n",
    "Operadores = operador operação valor => **operador operação = valor**\n",
    "\n",
    "resumindo\n",
    "idade = idade +5 => ***idade += 5**"
   ]
  },
  {
   "cell_type": "code",
   "execution_count": 31,
   "metadata": {},
   "outputs": [
    {
     "name": "stdout",
     "output_type": "stream",
     "text": [
      "7\n",
      "7\n"
     ]
    }
   ],
   "source": [
    "variavel = 2\n",
    "#variavel = variavel + 5 \n",
    "variavel+= 5 \n",
    "print(variavel)\n",
    "#variavel = variavel * 5 + 2\n",
    "print(variavel)\n",
    "variavel *= 5 + 2\n"
   ]
  },
  {
   "cell_type": "markdown",
   "metadata": {},
   "source": [
    "### 2.4.9   LAB   Variáveis ‒ um simples conversor"
   ]
  },
  {
   "cell_type": "code",
   "execution_count": 32,
   "metadata": {},
   "outputs": [
    {
     "name": "stdout",
     "output_type": "stream",
     "text": [
      "7.38 milhas é 11.88 quilômetros\n",
      "12.25 quilômetros é 7.61 milhas\n"
     ]
    }
   ],
   "source": [
    "kilometers = 12.25\n",
    "miles = 7.38\n",
    "one_mile_in_km = 1.61\n",
    "\n",
    "miles_to_kilometers = miles * one_mile_in_km\n",
    "kilometers_to_miles = kilometers / one_mile_in_km\n",
    "\n",
    "print(miles, \"milhas é\", round(miles_to_kilometers, 2), \"quilômetros\")\n",
    "print(kilometers, \"quilômetros é\", round(kilometers_to_miles, 2), \"milhas\")"
   ]
  },
  {
   "cell_type": "markdown",
   "metadata": {},
   "source": [
    "### 2.4.10   LAB   Operadores e Expressões\n",
    "- 3x3 - 2x2 + 3x - 1\n",
    "\n",
    "x = 0\n",
    "x = 1\n",
    "x = -1\n",
    "\n",
    "Exemplo de saída\n",
    "y = -1.0\n",
    "y = 3.0\n",
    "y = -9.0\n",
    "\n",
    "x = # Codifique seus dados de teste aqui.\n",
    "x = float(x)\n",
    "# Escreva seu código aqui.\n",
    "print(\"y =\", y)\n"
   ]
  },
  {
   "cell_type": "code",
   "execution_count": null,
   "metadata": {},
   "outputs": [
    {
     "name": "stdout",
     "output_type": "stream",
     "text": [
      "y = -1.0\n",
      "y = 3.0\n",
      "y = -9.0\n"
     ]
    }
   ],
   "source": [
    "\n",
    "\n",
    "x = 0\n",
    "x = float(x)\n",
    "#3x3 - 2x2 + 3x - 1\n",
    "y = 3 * x**3 - 2 * x**2 + 3 * x - 1\n",
    "print(\"y =\", y)\n",
    "\n",
    "x = 1\n",
    "x = float(x)\n",
    "#3x3 - 2x2 + 3x - 1\n",
    "y = 3 * x**3 - 2 * x**2 + 3 * x - 1\n",
    "print(\"y =\", y)\n",
    "\n",
    "x = -1\n",
    "x = float(x)\n",
    "#3x3 - 2x2 + 3x - 1\n",
    "y = 3 * x**3 - 2 * x**2 + 3 * x - 1\n",
    "print(\"y =\", y)\n"
   ]
  }
 ],
 "metadata": {
  "kernelspec": {
   "display_name": ".venv",
   "language": "python",
   "name": "python3"
  },
  "language_info": {
   "codemirror_mode": {
    "name": "ipython",
    "version": 3
   },
   "file_extension": ".py",
   "mimetype": "text/x-python",
   "name": "python",
   "nbconvert_exporter": "python",
   "pygments_lexer": "ipython3",
   "version": "3.13.2"
  }
 },
 "nbformat": 4,
 "nbformat_minor": 2
}
