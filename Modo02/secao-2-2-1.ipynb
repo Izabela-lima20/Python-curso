{
 "cells": [
  {
   "cell_type": "markdown",
   "metadata": {},
   "source": [
    "## Literais em Ptyhon\n",
    "### literais inteiros"
   ]
  },
  {
   "cell_type": "code",
   "execution_count": 104,
   "metadata": {},
   "outputs": [
    {
     "name": "stdout",
     "output_type": "stream",
     "text": [
      "1\n",
      "10\n"
     ]
    }
   ],
   "source": [
    "print(1)\n",
    "print(10)"
   ]
  },
  {
   "cell_type": "markdown",
   "metadata": {},
   "source": [
    "\n",
    "###Inteiro na base 2(binario)\n",
    "0b10 => 2"
   ]
  },
  {
   "cell_type": "code",
   "execution_count": 105,
   "metadata": {},
   "outputs": [
    {
     "name": "stdout",
     "output_type": "stream",
     "text": [
      "2\n"
     ]
    }
   ],
   "source": [
    "print(0b10) # 2 "
   ]
  },
  {
   "cell_type": "markdown",
   "metadata": {},
   "source": [
    "### Inteiro na base (8) octal\n",
    "0o123"
   ]
  },
  {
   "cell_type": "code",
   "execution_count": 106,
   "metadata": {},
   "outputs": [
    {
     "name": "stdout",
     "output_type": "stream",
     "text": [
      "83\n"
     ]
    }
   ],
   "source": [
    "print(0o123) #83"
   ]
  },
  {
   "cell_type": "markdown",
   "metadata": {},
   "source": [
    "### Inteiro na base 16 (hexadecimal)\n",
    "0x123 = "
   ]
  },
  {
   "cell_type": "code",
   "execution_count": 107,
   "metadata": {},
   "outputs": [
    {
     "name": "stdout",
     "output_type": "stream",
     "text": [
      "291\n"
     ]
    }
   ],
   "source": [
    "print(0x123)"
   ]
  },
  {
   "cell_type": "markdown",
   "metadata": {},
   "source": [
    "### Floats - numericos com casas decimais \n"
   ]
  },
  {
   "cell_type": "code",
   "execution_count": 108,
   "metadata": {},
   "outputs": [
    {
     "name": "stdout",
     "output_type": "stream",
     "text": [
      "1.0\n",
      "2.5\n",
      "3.0\n",
      "2e-22\n",
      "1e-14\n"
     ]
    }
   ],
   "source": [
    "print(1.0)\n",
    "print(2.5)\n",
    "print(3.)\n",
    "print(2e-22) #notação cientifica\n",
    "print(0.000_0000_000_0001) #um numero muito grande ele ja coloca em notação cientifica\n"
   ]
  },
  {
   "cell_type": "markdown",
   "metadata": {},
   "source": [
    "### Strings - texto"
   ]
  },
  {
   "cell_type": "code",
   "execution_count": 109,
   "metadata": {},
   "outputs": [
    {
     "name": "stdout",
     "output_type": "stream",
     "text": [
      "texto com aspas duplas\n",
      "texto com aspas simples\n",
      "texto com escapes: \n",
      "\t\"\n",
      "texto com multiplas\"\n",
      "linhas\n",
      "linhas2\n",
      "linhas2\n",
      "linhas4\n"
     ]
    }
   ],
   "source": [
    "print(\"texto com aspas duplas\")\n",
    "print('texto com aspas simples')\n",
    "print(\"texto com escapes: \\n\\t\\\"\")\n",
    "print(\"\"\"texto com multiplas\"\n",
    "linhas\n",
    "linhas2\n",
    "linhas2\n",
    "linhas4\"\"\")\n",
    "\n"
   ]
  },
  {
   "cell_type": "markdown",
   "metadata": {},
   "source": [
    "###  Valores booleanos - lógicos (True ou False, 1 ou 0)\n"
   ]
  },
  {
   "cell_type": "code",
   "execution_count": 110,
   "metadata": {},
   "outputs": [
    {
     "name": "stdout",
     "output_type": "stream",
     "text": [
      "True\n",
      "False\n"
     ]
    }
   ],
   "source": [
    "print(True > False)\n",
    "print(True < False)"
   ]
  },
  {
   "cell_type": "markdown",
   "metadata": {},
   "source": [
    "### Laboratorio 2.2.6\n",
    "Cenário\n",
    "Escreva um código de uma linha usando a função de print(), bem como os caracteres de nova linha e de escape, para corresponder ao resultado esperado gerado em três linhas.\n",
    "\n",
    "**Saída esperada** \n",
    "\"Eu sou\"\n",
    "\"\"aprendizado\"\"\n",
    "\"\"\"Python\"\"\""
   ]
  },
  {
   "cell_type": "code",
   "execution_count": 111,
   "metadata": {},
   "outputs": [
    {
     "name": "stdout",
     "output_type": "stream",
     "text": [
      "\"Eu sou\"\n",
      "\"\"aprendizado\"\"\n",
      "\"\"\"Python\"\"\"\n",
      "\n",
      "\"Eu sou\"\n",
      "\"\"aprendizado\"\"\n",
      "\"\"\"Python\"\"\"\n",
      "\n",
      "\"Eu sou\"\n",
      " \"\"aprendizado\"\" \n",
      " \"\"\"Python\"\"\"\n"
     ]
    }
   ],
   "source": [
    "print(\"\\\"Eu sou\\\"\\n\\\"\\\"aprendizado\\\"\\\"\\n\\\"\\\"\\\"Python\\\"\\\"\\\"\") # primiera foram - mais dificil\n",
    "print()\n",
    "\n",
    "\n",
    "print('\"Eu sou\"\\n\"\"aprendizado\"\"\\n\"\"\"Python\\\"\"\"') #segunda maneira\n",
    "\n",
    "print()\n",
    "print('\"Eu sou\"',' \"\"aprendizado\"\" ',' \"\"\"Python\\\"\"\"', sep=\"\\n\") #terceira maneira\n",
    "\n",
    "\n",
    "#\\n quebra de linha"
   ]
  },
  {
   "cell_type": "markdown",
   "metadata": {},
   "source": [
    "###  Literal None"
   ]
  },
  {
   "cell_type": "code",
   "execution_count": 112,
   "metadata": {},
   "outputs": [
    {
     "name": "stdout",
     "output_type": "stream",
     "text": [
      "None\n"
     ]
    }
   ],
   "source": [
    "print(None) #Nome não e nada, algo que não tem valor, se te, um item None e algo que ainda esta sem valor "
   ]
  }
 ],
 "metadata": {
  "kernelspec": {
   "display_name": ".venv",
   "language": "python",
   "name": "python3"
  },
  "language_info": {
   "codemirror_mode": {
    "name": "ipython",
    "version": 3
   },
   "file_extension": ".py",
   "mimetype": "text/x-python",
   "name": "python",
   "nbconvert_exporter": "python",
   "pygments_lexer": "ipython3",
   "version": "3.13.2"
  }
 },
 "nbformat": 4,
 "nbformat_minor": 2
}
