{
 "cells": [
  {
   "cell_type": "markdown",
   "metadata": {},
   "source": [
    "### Operadores em Python\n",
    "### Python como calculadora "
   ]
  },
  {
   "cell_type": "code",
   "execution_count": 70,
   "metadata": {},
   "outputs": [
    {
     "name": "stdout",
     "output_type": "stream",
     "text": [
      "4\n"
     ]
    }
   ],
   "source": [
    "print(2+2)"
   ]
  },
  {
   "cell_type": "markdown",
   "metadata": {},
   "source": [
    "### operadores Basicos \n",
    "#### Operdor de exponenciação ( ** )"
   ]
  },
  {
   "cell_type": "code",
   "execution_count": 71,
   "metadata": {},
   "outputs": [
    {
     "name": "stdout",
     "output_type": "stream",
     "text": [
      "4\n",
      "4.0\n",
      "4.0\n",
      "4.0\n",
      "7.852153973543468\n",
      "100.62108656102474\n"
     ]
    }
   ],
   "source": [
    "print(2 ** 2)\n",
    "print(2.0 ** 2)\n",
    "print(2 ** 2.0)\n",
    "print(2.0 ** 2.0)\n",
    "print(2.36 ** 2.40)\n",
    "print(3.6 ** 3.6)"
   ]
  },
  {
   "cell_type": "markdown",
   "metadata": {},
   "source": [
    "### Operador de Multiplicação\n",
    "#### Operdor de Multiplicação ( * )"
   ]
  },
  {
   "cell_type": "code",
   "execution_count": 72,
   "metadata": {},
   "outputs": [
    {
     "name": "stdout",
     "output_type": "stream",
     "text": [
      "4\n",
      "4.0\n",
      "4.0\n",
      "4.0\n",
      "5.664\n",
      "12.96\n"
     ]
    }
   ],
   "source": [
    "print(2 * 2)\n",
    "print(2.0 * 2)\n",
    "print(2 * 2.0)\n",
    "print(2.0 * 2.0)\n",
    "print(2.36 * 2.40)\n",
    "print(3.6 * 3.6)"
   ]
  },
  {
   "cell_type": "markdown",
   "metadata": {},
   "source": [
    "### Operador de Divisão\n",
    "### (/)"
   ]
  },
  {
   "cell_type": "code",
   "execution_count": 73,
   "metadata": {},
   "outputs": [
    {
     "name": "stdout",
     "output_type": "stream",
     "text": [
      "1.0\n",
      "1.0\n",
      "1.0\n",
      "1.0\n",
      "1.0\n",
      "0.9444444444444444\n"
     ]
    }
   ],
   "source": [
    "print(2 / 2)\n",
    "print(2.0 / 2)\n",
    "print(2 / 2.0)\n",
    "print(2.0 / 2.0)\n",
    "print(2.3 / 2.3)\n",
    "print(3.40 / 3.60)\n"
   ]
  },
  {
   "cell_type": "markdown",
   "metadata": {},
   "source": [
    "#### Divisão inteira ( // )\n",
    "##### faz arredondamento par abaixo!! **Atenção**\n",
    "##### ele joga para o inteiro mais procimo da decimal "
   ]
  },
  {
   "cell_type": "code",
   "execution_count": 74,
   "metadata": {},
   "outputs": [
    {
     "name": "stdout",
     "output_type": "stream",
     "text": [
      "1\n",
      "1.0\n",
      "1.0\n",
      "1.0\n",
      "1.0\n",
      "-1.0\n",
      "-2\n"
     ]
    }
   ],
   "source": [
    "print(2 // 2)\n",
    "print(2.0 // 2)\n",
    "print(2 // 2.0)\n",
    "print(2.0 // 2.0)\n",
    "print(2.3 // 2.3)\n",
    "print(-3.40 // 3.60)\n",
    "print(-3 // 2)"
   ]
  },
  {
   "cell_type": "markdown",
   "metadata": {},
   "source": [
    "### Operador de resto (%)\n"
   ]
  },
  {
   "cell_type": "code",
   "execution_count": 75,
   "metadata": {},
   "outputs": [
    {
     "name": "stdout",
     "output_type": "stream",
     "text": [
      "2\n",
      "1\n",
      "1.0\n",
      "3.0\n",
      "0\n",
      "9\n",
      "1\n"
     ]
    }
   ],
   "source": [
    "print(14 % 4)\n",
    "print(3 % 2)\n",
    "print(3 % 2.0)\n",
    "print(12 % 4.5) # 4.5 + 4.5 = 9 (9 para chegar no 12 é 3)\n",
    "print(1 % 1)\n",
    "print(9 % 10) #a divisão não e possivel então o resultado e 9\n",
    "print (10 % 9 ) #resultado 1"
   ]
  },
  {
   "cell_type": "markdown",
   "metadata": {},
   "source": [
    "#### cuidado com restos e divisões , qualquer divisor o zero (0) o resultado e erro!! \n",
    "\n",
    "### Operdaro de soma e subtração\n"
   ]
  },
  {
   "cell_type": "code",
   "execution_count": 76,
   "metadata": {},
   "outputs": [
    {
     "name": "stdout",
     "output_type": "stream",
     "text": [
      "8\n",
      "4.0\n",
      "0\n",
      "-4.0\n",
      "0.0\n"
     ]
    }
   ],
   "source": [
    "print(4 + 4)\n",
    "print(-4. + 8)\n",
    "print(4 - 4)\n",
    "print(4. - 8)\n",
    "print(-2.0 + 2.0)# usando operador unário\n",
    "\n"
   ]
  },
  {
   "cell_type": "markdown",
   "metadata": {},
   "source": [
    "#### Operadores e prioridades "
   ]
  },
  {
   "cell_type": "code",
   "execution_count": 77,
   "metadata": {},
   "outputs": [
    {
     "name": "stdout",
     "output_type": "stream",
     "text": [
      "2.0\n",
      "256\n"
     ]
    }
   ],
   "source": [
    "print(2 + 3 * 4 ** 2 / 2 // 2 % 3) #primeiro os expoente, multiplicação ou diivsão \n",
    "print(2 ** 2 ** 3) # envolve os dois item finais 2 e 3"
   ]
  },
  {
   "cell_type": "markdown",
   "metadata": {},
   "source": [
    "#### Lista de prioridades de operadores \n",
    "\n",
    "|prioridade | operador | descrição |\n",
    "| - | - | :-: |\n",
    "| 1| **| Exponenciação |\n",
    "|2 | -, + | operador Unário |\n",
    "|3 | *, /, // % | Multiplicação, Divisão, Resto |\n",
    "|4 | -, + | Soma e Subtração |"
   ]
  },
  {
   "cell_type": "code",
   "execution_count": 79,
   "metadata": {},
   "outputs": [
    {
     "name": "stdout",
     "output_type": "stream",
     "text": [
      "-9\n",
      "9\n"
     ]
    }
   ],
   "source": [
    "print( - 3 ** 2)\n",
    "\n",
    "print( (- 3) ** 2)"
   ]
  }
 ],
 "metadata": {
  "kernelspec": {
   "display_name": ".venv",
   "language": "python",
   "name": "python3"
  },
  "language_info": {
   "codemirror_mode": {
    "name": "ipython",
    "version": 3
   },
   "file_extension": ".py",
   "mimetype": "text/x-python",
   "name": "python",
   "nbconvert_exporter": "python",
   "pygments_lexer": "ipython3",
   "version": "3.13.2"
  }
 },
 "nbformat": 4,
 "nbformat_minor": 2
}
