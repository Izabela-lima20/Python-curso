{
 "cells": [
  {
   "cell_type": "markdown",
   "metadata": {},
   "source": [
    "## Laboratório 2-1-5"
   ]
  },
  {
   "cell_type": "code",
   "execution_count": 114,
   "metadata": {},
   "outputs": [
    {
     "name": "stdout",
     "output_type": "stream",
     "text": [
      "olá, python!\n",
      "Izabela\n"
     ]
    }
   ],
   "source": [
    "print(\"olá, python!\")\n",
    "print('Izabela')\n"
   ]
  },
  {
   "cell_type": "markdown",
   "metadata": {},
   "source": [
    "#### continuando sobre o print"
   ]
  },
  {
   "cell_type": "code",
   "execution_count": 115,
   "metadata": {},
   "outputs": [
    {
     "name": "stdout",
     "output_type": "stream",
     "text": [
      "A pequenina aranha escalou a tromba d'água.\n",
      "\n",
      "Caiu a chuva e lavou a aranha.\n"
     ]
    }
   ],
   "source": [
    "print(\"A pequenina aranha escalou a tromba d'água.\")\n",
    "print()\n",
    "print(\"Caiu a chuva e lavou a aranha.\")\n"
   ]
  },
  {
   "cell_type": "markdown",
   "metadata": {},
   "source": [
    " ###\\n. A letra n colocada após a barra invertida vem da palavra newline (nova linha)."
   ]
  },
  {
   "cell_type": "code",
   "execution_count": 116,
   "metadata": {},
   "outputs": [
    {
     "name": "stdout",
     "output_type": "stream",
     "text": [
      "A aranha pequenininha\n",
      "subiu a tromba d'água.\n",
      "\n",
      "abaixo veio a chuva\n",
      "e lavou a aranha.\n",
      "\"\n",
      "\\\n",
      "1234\t5678\t90\n"
     ]
    }
   ],
   "source": [
    "print(\"A aranha pequenininha\\nsubiu a tromba d'água.\")\n",
    "print()\n",
    "print(\"abaixo veio a chuva\\ne lavou a aranha.\")\n",
    "\n",
    "print(\"\\\"\")\n",
    "print(\"\\\\\") #preciso de duas barrar para imprimir uma barra \n",
    "print(\"1234\\t5678\\t90\") #\\t e tabulção"
   ]
  },
  {
   "cell_type": "markdown",
   "metadata": {},
   "source": [
    "### print com varios argumentos "
   ]
  },
  {
   "cell_type": "code",
   "execution_count": 117,
   "metadata": {},
   "outputs": [
    {
     "name": "stdout",
     "output_type": "stream",
     "text": [
      "A aranha pequenininha subiu a tromba d'água.\n"
     ]
    }
   ],
   "source": [
    "print(\"A aranha pequenininha\" , \"subiu\" , \"a tromba d'água.\")\n"
   ]
  },
  {
   "cell_type": "markdown",
   "metadata": {},
   "source": [
    "###Argumentos de palavra-chave"
   ]
  },
  {
   "cell_type": "code",
   "execution_count": 118,
   "metadata": {},
   "outputs": [
    {
     "name": "stdout",
     "output_type": "stream",
     "text": [
      "Meu nome é Python. Monty Python.\n"
     ]
    }
   ],
   "source": [
    "print(\"Meu nome é\", \"Python.\", end=\" \") #esse end=(o terminador de linha não e mais quebra de linha e um espaço) ou seja ficou tudo na mesma linha \n",
    "print(\"Monty Python.\")\n"
   ]
  },
  {
   "cell_type": "markdown",
   "metadata": {},
   "source": [
    "### O argumento da palavra -chave que pode fazer isso é nomeado sep (como no separador)."
   ]
  },
  {
   "cell_type": "code",
   "execution_count": 119,
   "metadata": {},
   "outputs": [
    {
     "name": "stdout",
     "output_type": "stream",
     "text": [
      "Meu-nome-é-Monty-Python.\n"
     ]
    }
   ],
   "source": [
    "print(\"Meu\", \"nome\", \"é\", \"Monty\", \"Python.\", sep=\"-\")\n"
   ]
  },
  {
   "cell_type": "code",
   "execution_count": 120,
   "metadata": {},
   "outputs": [
    {
     "name": "stdout",
     "output_type": "stream",
     "text": [
      "Meu_nome_é*Monty*Python.*\n"
     ]
    }
   ],
   "source": [
    "print(\"Meu\", \"nome\", \"é\", sep=\"_\", end=\"*\")\n",
    "print(\"Monty\", \"Python.\", sep=\"*\", end=\"*\\n\")"
   ]
  },
  {
   "cell_type": "markdown",
   "metadata": {},
   "source": [
    "### laboratorio 1-2-12\n",
    "### saida esperada:\n",
    "'''python\n",
    "Programação***Essenciais****em...Python"
   ]
  },
  {
   "cell_type": "code",
   "execution_count": 121,
   "metadata": {},
   "outputs": [
    {
     "name": "stdout",
     "output_type": "stream",
     "text": [
      "programaçãoessenciaisempython\n"
     ]
    }
   ],
   "source": [
    "print(\"programação\", \"essenciais\", \"em\", sep=\"\",end=\"\")\n",
    "#rint(\"programação\", \"essenciais\", \"em\", sep=\"\",end=\"\")\n",
    "\n",
    "print(\"python\")"
   ]
  },
  {
   "cell_type": "markdown",
   "metadata": {},
   "source": [
    "##Laboratorio 1-2-13"
   ]
  },
  {
   "cell_type": "code",
   "execution_count": 122,
   "metadata": {},
   "outputs": [
    {
     "name": "stdout",
     "output_type": "stream",
     "text": [
      "   **     **  \n",
      "   **     **  \n",
      "   **    ** \n",
      "   **      **   \n",
      "   **     **  \n",
      "   **    ** \n",
      "   **     **  \n",
      "   **     **  \n"
     ]
    }
   ],
   "source": [
    "print(\"   **  \"*2)\n",
    "print(\"   **  \"*2)\n",
    "print(\"   ** \"*2)\n",
    "print(\"   **   \"*2)\n",
    "print(\"   **  \"*2)\n",
    "print(\"   ** \"*2)\n",
    "print(\"   **  \"*2)\n",
    "print(\"   **  \"*2)\n",
    "\n",
    "\n"
   ]
  },
  {
   "cell_type": "markdown",
   "metadata": {},
   "source": [
    "##2.1.15 TESTE DA SEÇÃO\n"
   ]
  },
  {
   "cell_type": "code",
   "execution_count": 123,
   "metadata": {},
   "outputs": [
    {
     "name": "stdout",
     "output_type": "stream",
     "text": [
      "Meu\n",
      "nome\n",
      "é\n",
      "Bond. James Bond.\n"
     ]
    }
   ],
   "source": [
    "print(\"Meu\\nnome\\né\\nBond.\", end=\" \")\n",
    "print(\"James Bond.\")"
   ]
  },
  {
   "cell_type": "code",
   "execution_count": 125,
   "metadata": {},
   "outputs": [],
   "source": [
    "#rint(sep=\"&\", \"peixe\", \"salgadinhos\")"
   ]
  },
  {
   "cell_type": "code",
   "execution_count": 126,
   "metadata": {},
   "outputs": [
    {
     "name": "stdout",
     "output_type": "stream",
     "text": [
      "Greg's book.\n",
      "'Greg's book.'\n",
      "\"Greg's book.\"\n",
      "Greg's book.\n"
     ]
    }
   ],
   "source": [
    "print('Greg\\'s book.')\n",
    "print(\"'Greg's book.'\")\n",
    "print('\"Greg\\'s book.\"')\n",
    "print(\"Greg\\'s book.\")\n"
   ]
  }
 ],
 "metadata": {
  "kernelspec": {
   "display_name": ".venv",
   "language": "python",
   "name": "python3"
  },
  "language_info": {
   "codemirror_mode": {
    "name": "ipython",
    "version": 3
   },
   "file_extension": ".py",
   "mimetype": "text/x-python",
   "name": "python",
   "nbconvert_exporter": "python",
   "pygments_lexer": "ipython3",
   "version": "3.13.2"
  }
 },
 "nbformat": 4,
 "nbformat_minor": 2
}
